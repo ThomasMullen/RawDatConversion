{
 "cells": [
  {
   "cell_type": "code",
   "execution_count": 1,
   "metadata": {},
   "outputs": [],
   "source": [
    "import os\n",
    "os.chdir(\"/Users/thomasmullen/VSCodeProjects/RawDatConversion\")\n",
    "\n",
    "import subprocess\n",
    "from pathlib import Path\n",
    "import numpy as np\n",
    "import zarr\n",
    "from numcodecs import Blosc\n",
    "import mat73\n",
    "import logging\n",
    "from skimage import io as skio\n",
    "from data_conversion.dat_file_functs import Struct, LoadConfig, calc_total_planes\n",
    "from data_conversion.data_stream_io import map_dats_to_volume, load_dats_for_vol\n",
    "from tqdm import trange\n"
   ]
  },
  {
   "cell_type": "code",
   "execution_count": 2,
   "metadata": {},
   "outputs": [],
   "source": [
    "# parse data\n",
    "# dark_plane = np.load(\"/Volumes/TomMullen02/20221204/dark_plane.npy\")\n",
    "# dat_dir=Path(\"/Volumes/TomMullen02/20221204/high_resolution/h2bhuc_f01_4dpf_run3_HR\")\n",
    "# info_path = Path(f\"/Volumes/TomMullen02/20221204/high_resolution/h2bhuc_f01_4dpf_run3_HR_info.mat\")\n",
    "# config_path = Path(f\"{dat_dir}\",f\"acquisitionmetadata.ini\")\n",
    "dark_plane = np.load(\"/Volumes/TomMullen/20221124/f02_6dpf_huc_h2b/dark_plane.npy\")\n",
    "dat_dir=Path(\"/Volumes/TomMullen/20221124/f02_6dpf_huc_h2b/f02_6dpf_huc_h2b_run2_HR\")\n",
    "info_path = Path(f\"/Volumes/TomMullen/20221124/f02_6dpf_huc_h2b/f02_6dpf_huc_h2b_run2_HR_info.mat\")\n",
    "config_path = Path(f\"{dat_dir}\",f\"acquisitionmetadata.ini\")\n"
   ]
  },
  {
   "cell_type": "code",
   "execution_count": 3,
   "metadata": {},
   "outputs": [
    {
     "name": "stdout",
     "output_type": "stream",
     "text": [
      "['data', 'multiimage']\n"
     ]
    }
   ],
   "source": [
    "# load daq info\n",
    "daq = Struct(mat73.loadmat(info_path)).info.daq\n",
    "# load config file\n",
    "config=LoadConfig(config_path)\n",
    "# generate dat file loader\n",
    "dat_loader = config.get_dat_dimensions()\n",
    "# load and sort dat spools files\n",
    "total_planes = calc_total_planes(daq)\n",
    "file_names = dat_loader.sort_spool_filenames(total_planes)\n",
    "# prepare slices and dat vols for each camera vol\n",
    "dat_vol_arrays, dat_slice_array = map_dats_to_volume(daq, dat_loader.n_planes)\n"
   ]
  },
  {
   "cell_type": "code",
   "execution_count": 4,
   "metadata": {},
   "outputs": [
    {
     "data": {
      "text/plain": [
       "(1, 999, 400, 399)"
      ]
     },
     "execution_count": 4,
     "metadata": {},
     "output_type": "execute_result"
    }
   ],
   "source": [
    "flyback = 2\n",
    "hr_shape=(int(daq.numberOfScans),\n",
    "            int(daq.pixelsPerLine-flyback),\n",
    "            dat_loader.x_crop,\n",
    "            dat_loader.y_crop)\n",
    "hr_shape"
   ]
  },
  {
   "cell_type": "code",
   "execution_count": 5,
   "metadata": {},
   "outputs": [
    {
     "data": {
      "text/plain": [
       "(999, 400, 399)"
      ]
     },
     "execution_count": 5,
     "metadata": {},
     "output_type": "execute_result"
    }
   ],
   "source": [
    "dark_vol = np.tile(dark_plane, (int(daq.pixelsPerLine-flyback),1,1)).astype(np.uint16)\n",
    "dark_vol.shape"
   ]
  },
  {
   "cell_type": "code",
   "execution_count": 6,
   "metadata": {},
   "outputs": [],
   "source": [
    "# load high resolution volume\n",
    "volume = load_dats_for_vol(dat_loader,\n",
    "                                dat_dir, \n",
    "                                file_names, \n",
    "                                dat_vol_arrays[0], \n",
    "                                dat_slice_array[0])[...,:-flyback]\n",
    "# reorder indices - t, z, y, x\n",
    "volume = volume.transpose(2,0,1)\n",
    "# subtract background\n",
    "volume+=110\n",
    "volume-=dark_vol"
   ]
  },
  {
   "cell_type": "code",
   "execution_count": 7,
   "metadata": {},
   "outputs": [
    {
     "data": {
      "text/plain": [
       "(999, 400, 399)"
      ]
     },
     "execution_count": 7,
     "metadata": {},
     "output_type": "execute_result"
    }
   ],
   "source": [
    "volume.shape"
   ]
  },
  {
   "cell_type": "code",
   "execution_count": 8,
   "metadata": {},
   "outputs": [
    {
     "name": "stderr",
     "output_type": "stream",
     "text": [
      "/var/folders/gn/k1gxpths3215w28g0srkkq7r0000gn/T/ipykernel_16703/4030091149.py:2: UserWarning: /Volumes/TomMullen/20221124/f02_6dpf_huc_h2b/high_resolution.tif is a low contrast image\n",
      "  skio.imsave(Path(f\"{dat_dir.parent}\",\"high_resolution.tif\"), volume.astype(np.uint16))\n"
     ]
    }
   ],
   "source": [
    "# save the high resolution volume as a tiff\n",
    "skio.imsave(Path(f\"{dat_dir.parent}\",\"high_resolution.tif\"), volume.astype(np.uint16))"
   ]
  },
  {
   "cell_type": "code",
   "execution_count": null,
   "metadata": {},
   "outputs": [],
   "source": []
  }
 ],
 "metadata": {
  "kernelspec": {
   "display_name": "venv",
   "language": "python",
   "name": "python3"
  },
  "language_info": {
   "codemirror_mode": {
    "name": "ipython",
    "version": 3
   },
   "file_extension": ".py",
   "mimetype": "text/x-python",
   "name": "python",
   "nbconvert_exporter": "python",
   "pygments_lexer": "ipython3",
   "version": "3.10.8 (main, Oct 13 2022, 10:19:13) [Clang 12.0.0 (clang-1200.0.32.29)]"
  },
  "orig_nbformat": 4,
  "vscode": {
   "interpreter": {
    "hash": "2206c72bf4c15e91df691739f2140458b2f7759a98585c274c9660b8b470c726"
   }
  }
 },
 "nbformat": 4,
 "nbformat_minor": 2
}
