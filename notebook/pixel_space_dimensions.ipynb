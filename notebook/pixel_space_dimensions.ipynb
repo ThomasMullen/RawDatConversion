{
 "cells": [
  {
   "cell_type": "code",
   "execution_count": 1,
   "metadata": {},
   "outputs": [],
   "source": [
    "import os\n",
    "os.chdir(\"/Users/thomasmullen/VSCodeProjects/RawDatConversion\")\n",
    "\n",
    "import subprocess\n",
    "from pathlib import Path\n",
    "import numpy as np\n",
    "import zarr\n",
    "from numcodecs import Blosc\n",
    "import mat73\n",
    "import logging\n",
    "from skimage import io as skio\n",
    "from data_conversion.dat_file_functs import Struct, LoadConfig, calc_total_planes, get_pixel_space_calibration\n",
    "from data_conversion.data_stream_io import map_dats_to_volume, load_dats_for_vol\n",
    "from tqdm import trange"
   ]
  },
  {
   "cell_type": "code",
   "execution_count": 2,
   "metadata": {},
   "outputs": [],
   "source": [
    "dat_dir=Path(\"/Volumes/TomMullen/20221124/f02_6dpf_huc_h2b/f02_6dpf_huc_h2b_run2_HR\")\n",
    "info_path = Path(f\"/Volumes/TomMullen/20221124/f02_6dpf_huc_h2b/f02_6dpf_huc_h2b_run2_HR_info.mat\")\n",
    "config_path = Path(f\"{dat_dir}\",f\"acquisitionmetadata.ini\")"
   ]
  },
  {
   "cell_type": "code",
   "execution_count": 3,
   "metadata": {},
   "outputs": [],
   "source": [
    "high_res_converter = get_pixel_space_calibration(info_path)\n",
    "high_res_converter"
   ]
  },
  {
   "cell_type": "code",
   "execution_count": 5,
   "metadata": {},
   "outputs": [],
   "source": [
    "dat_dir=Path(\"/Volumes/TomMullen/20221124/f02_6dpf_huc_h2b/f02_6dpf_huc_h2b_run1\")\n",
    "info_path = Path(f\"/Volumes/TomMullen/20221124/f02_6dpf_huc_h2b/f02_6dpf_huc_h2b_run1_info.mat\")\n",
    "config_path = Path(f\"{dat_dir}\",f\"acquisitionmetadata.ini\")"
   ]
  },
  {
   "cell_type": "code",
   "execution_count": 6,
   "metadata": {},
   "outputs": [
    {
     "data": {
      "text/plain": [
       "PixelConversion(z_per_pix=array(1.13), y_per_pix=array(1.4), x_per_pix=array(3.5), xK_per_volt=array(315.))"
      ]
     },
     "execution_count": 6,
     "metadata": {},
     "output_type": "execute_result"
    }
   ],
   "source": [
    "`low_res_converter = get_pixel_space_calibration(info_path)\n",
    "low_res_converter`"
   ]
  },
  {
   "cell_type": "code",
   "execution_count": null,
   "metadata": {},
   "outputs": [],
   "source": []
  }
 ],
 "metadata": {
  "kernelspec": {
   "display_name": "venv",
   "language": "python",
   "name": "python3"
  },
  "language_info": {
   "codemirror_mode": {
    "name": "ipython",
    "version": 3
   },
   "file_extension": ".py",
   "mimetype": "text/x-python",
   "name": "python",
   "nbconvert_exporter": "python",
   "pygments_lexer": "ipython3",
   "version": "3.10.8 (main, Oct 13 2022, 10:19:13) [Clang 12.0.0 (clang-1200.0.32.29)]"
  },
  "orig_nbformat": 4,
  "vscode": {
   "interpreter": {
    "hash": "2206c72bf4c15e91df691739f2140458b2f7759a98585c274c9660b8b470c726"
   }
  }
 },
 "nbformat": 4,
 "nbformat_minor": 2
}
